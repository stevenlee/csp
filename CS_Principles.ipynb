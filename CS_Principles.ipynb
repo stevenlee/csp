{
  "nbformat": 4,
  "nbformat_minor": 0,
  "metadata": {
    "colab": {
      "name": "CS Principles.ipynb",
      "version": "0.3.2",
      "provenance": [],
      "collapsed_sections": [
        "s1EnN-QxpCIM",
        "fkQXv97cbQ2C",
        "3USzpiHEasmv"
      ],
      "include_colab_link": true
    },
    "kernelspec": {
      "name": "python3",
      "display_name": "Python 3"
    }
  },
  "cells": [
    {
      "cell_type": "markdown",
      "metadata": {
        "id": "view-in-github",
        "colab_type": "text"
      },
      "source": [
        "<a href=\"https://colab.research.google.com/github/stevenlee/csp/blob/master/CS_Principles.ipynb\" target=\"_parent\"><img src=\"https://colab.research.google.com/assets/colab-badge.svg\" alt=\"Open In Colab\"/></a>"
      ]
    },
    {
      "metadata": {
        "id": "Dw0lu6rolXsR",
        "colab_type": "text"
      },
      "cell_type": "markdown",
      "source": [
        "# Computer Science Principles\n",
        "\n",
        "*It begins in minuteness, but ends in magnificence.*"
      ]
    },
    {
      "metadata": {
        "id": "WHYvsnv3ld8E",
        "colab_type": "text"
      },
      "cell_type": "markdown",
      "source": [
        "### Unit 1 - The Computer: Basics and Binary"
      ]
    },
    {
      "metadata": {
        "id": "cXcBujDaCBjh",
        "colab_type": "text"
      },
      "cell_type": "markdown",
      "source": [
        "Before we start, some skill you need to know: You have 10 fingers, computer only has 1, Yes or No, True or False, Zero or One. That's why we need to know binary.\n",
        "\n",
        "** Truth Table **\n",
        "\n",
        "When we think about the result of logic combination, the best way is plot the truth table.\n",
        "\n",
        "| p | q | p & q |\n",
        "|--- | ---| ---------|\n",
        "| True | True | True       |\n",
        "| True | False | False       |\n",
        "| False | True | False       |\n",
        "| False | False | False       |\n",
        "\n",
        "T: True, F: False\n",
        "\n",
        "**How to get alphabet? **\n",
        "\n",
        "One organization defined a table, called ASCII table: (8bit definition of text)\n",
        "<p><a href=\"https://commons.wikimedia.org/wiki/File:USASCII_code_chart.png#/media/File:USASCII_code_chart.png\"><img width = '80%' src=\"https://upload.wikimedia.org/wikipedia/commons/thumb/c/cf/USASCII_code_chart.png/1200px-USASCII_code_chart.png\" alt=\"USASCII code chart.png\"></a><br>By an unknown officer or employee of the United States Government - <a rel=\"nofollow\" class=\"external free\" href=\"http://archive.computerhistory.org/resources/text/GE/GE.TermiNet300.1971.102646207.pdf\">http://archive.computerhistory.org/resources/text/GE/GE.TermiNet300.1971.102646207.pdf</a> (document not in link given), Public Domain, <a href=\"https://commons.wikimedia.org/w/index.php?curid=63485656\">Link</a></p>\n",
        "\n",
        "\n",
        "Is it enough? No, we have many encoding systems, one is **Unicode**.\n",
        "Unicode is a variable length encoding, and the first byte compatible to ASCII code.\n",
        "The most popular is UTF-8, using 1 to 6 byte to encode characters.\n",
        "\n",
        "\n",
        "<p><a href=\"https://commons.wikimedia.org/wiki/File:Utf8webgrowth.svg#/media/File:Utf8webgrowth.svg\"><img width = '80%' src=\"https://upload.wikimedia.org/wikipedia/commons/thumb/c/c4/Utf8webgrowth.svg/1200px-Utf8webgrowth.svg.png\" alt=\"Utf8webgrowth.svg\"></a><br>By <a href=\"//commons.wikimedia.org/wiki/User:Chris55\" title=\"User:Chris55\">Chris55</a> - <span class=\"int-own-work\" lang=\"en\">Own work</span>, <a href=\"https://creativecommons.org/licenses/by-sa/4.0\" title=\"Creative Commons Attribution-Share Alike 4.0\">CC BY-SA 4.0</a>, <a href=\"https://commons.wikimedia.org/w/index.php?curid=51421096\">Link</a></p>\n",
        "\n",
        "\n",
        "\n",
        "\n",
        "\n"
      ]
    },
    {
      "metadata": {
        "id": "RpV1IqjNub8u",
        "colab_type": "text"
      },
      "cell_type": "markdown",
      "source": [
        "#### De Morgan's laws\n",
        "\n",
        "\n",
        "\n",
        "Negation of a conjunction:\n",
        "$$ \\neg (A \\cap B) = \\neg A \\cup \\neg B $$\n",
        "\n",
        "$$ \\overline{A \\cap B} = \\overline A \\cup \\overline B $$\n",
        "\n",
        "\n",
        "\n",
        "Negation of a disjunction:\n",
        "$$ \\neg (A \\cup B) = \\neg A \\cap \\neg B $$\n",
        "\n",
        "$$ \\overline{A \\cup B} = \\overline A \\cap \\overline B $$\n"
      ]
    },
    {
      "metadata": {
        "id": "I6WL3gutuk2W",
        "colab_type": "text"
      },
      "cell_type": "markdown",
      "source": [
        "\n",
        "#### Karnaugh map (K-map)\n",
        "\n",
        "K-map is a good way for thinking. It visualize logical calculation and you may optimize you logic operation with different target. You may use least logic operation or avoid glitch by design.\n",
        "\n",
        "For example, if $ Z = f(A,B,C) = (A \\cap B \\cap \\overline C) \\cup \\overline B $\n",
        "\n",
        "Step 1: Plot it with good organization (00 -> 01 -> 11 --> 10, change one bit per column)\n",
        "\n",
        "|      | AB=00 | 01 | 11 | 10 |\n",
        "| --- | --- | --- | --- | --- |\n",
        "| C=0  |  1   |     |  1   |  1   |\n",
        "| C=1  |  1   |     |     |   1  |\n",
        "\n",
        "\n",
        "Step 2: Duplicate the first row and first column. (Round back to first)\n",
        "\n",
        "|      | AB=00 | 01 | 11 | 10 | 00 |\n",
        "| --- | --- | --- | --- | --- | --- |\n",
        "| C=0  |  1   |     |  1   |  1   |  1   |\n",
        "| C=1  |  1   |     |     |   1  |  1   |\n",
        "| C=0  |  1   |     |  1   |  1   |  1   |\n",
        "\n",
        "Step 3: Choose  the logic you want:\n",
        "  - $\\overline B$ is a good choice, because it is simplest.\n",
        "  - $A \\cap \\overline C $ is better than original $(A \\cap B \\cap \\overline C)$\n",
        "\n",
        "  So we may rewrite the function: $ Z = f(A,B,C) = (A \\cap \\overline C) \\cup \\overline B $\n",
        "\n",
        "  Nice, the circuit is smaller and avoid glitch~\n",
        "\n",
        "**Glitch**\n",
        "\n",
        "If the input from ABC = 100 changed to ABC = 110, only B changed from 0 to 1. and the output Z should keep the same as 1, right?\n",
        "\n",
        "The original Z = 1 comes from $\\overline B $\n",
        "\n",
        "The later Z =1 comes from $(A \\cap B \\cap \\overline C)$\n",
        "\n",
        "What if  $\\overline B $ circuit faster than $(A \\cap B \\cap \\overline C)$ ?\n",
        "\n",
        "$\\overline B $ will goes to 0 eariler than $(A \\cap B \\cap \\overline C)$ goes to 1.\n",
        "\n",
        "So, the output Z goes to 0 and than return to 1 for a very short time interval.\n",
        "\n",
        "Oh, that's bad! It's a problem that not happen everytime. It depends on state transition, means what path you go, and also depneds on system clock and even temperature, the parameters when TSMC make the chip. That means, you may not knowing the problem before you make 100 million pieces or before you launch it to Mars...\n",
        "\n",
        "Avoid Glitch or lose youe astronauts, you need K-map. (K-map can avoid some, not all glitch.)\n",
        "\n",
        "\n",
        "The concept of Karnaugh Map: Cowork with your neighbor. The farest is closest.\n",
        "\n",
        "<p><a href=\"https://commons.wikimedia.org/wiki/File:Torus_from_rectangle.gif#/media/File:Torus_from_rectangle.gif\"><img src=\"https://upload.wikimedia.org/wikipedia/commons/6/60/Torus_from_rectangle.gif\" alt=\"Torus from rectangle.gif\"></a><br>By <a href=\"//commons.wikimedia.org/wiki/User:Kieff\" class=\"mw-redirect\" title=\"User:Kieff\">Kieff</a> - <span class=\"int-own-work\" lang=\"en\">Own work</span>, Public Domain, <a href=\"https://commons.wikimedia.org/w/index.php?curid=19541412\">Link</a></p>\n"
      ]
    },
    {
      "metadata": {
        "id": "mEgDwc3Ol0ml",
        "colab_type": "text"
      },
      "cell_type": "markdown",
      "source": [
        "How good is **Good** ?\n",
        "\n",
        "In computer world, we consider few aspects:\n",
        "- Time: How many 'Calculation Power' you need\n",
        "- Space: How many memory you use\n",
        "- Bandwidth: How many traffic you need (if data lives far away from you)\n",
        "\n",
        "If we only pick one factor to evaluate **Good / Not Good**,  we choose CPU time.\n",
        "\n",
        "**Big O**\n",
        "\n",
        "Big O is one way to evaluate complexity. If the scale of problem is n, the time we spent to slove it $$ T(n) = n^2 + 4n + 8 $$ we know that, if n is large, the number is dominated by the highest order number. So, we write $$ T(n) = O(n^2) $$\n",
        "\n",
        "'For loop'  is O(n)\n",
        "\n",
        "'Binary Search' is O(log n) for average (Best: O(1), Worst O(n))\n",
        "\n",
        "\n",
        "[More information about big O](http://bigocheatsheet.com/)\n"
      ]
    },
    {
      "metadata": {
        "id": "f1vQvSWqejDp",
        "colab_type": "text"
      },
      "cell_type": "markdown",
      "source": [
        "#### Convert Binary / Decimal / Hexadecimal"
      ]
    },
    {
      "metadata": {
        "id": "gq4wqUz7Bv9t",
        "colab_type": "text"
      },
      "cell_type": "markdown",
      "source": [
        "Binary is to use 0 and 1 to represent a number.\n",
        "\n",
        "Decimal is to use 0,1,2,3,4,5,6,7,8,9\n",
        "\n",
        "Hexadecimal is to use 0,1,2,3,4,5,6,7,8,9,A,B,C,D,E,F\n",
        "\n",
        "Basic element is bit (0,1)\n",
        "\n",
        "If we have 4 bit, we may represent from 0000 to 1111. Or, 0 to 15 in decimal. Or 0 to F in hexadecimal.\n",
        "\n",
        "For easy to understand, we give a '0x' for hexadecimal numbers. For example, 0xF means 15 in decimal.\n",
        "\n",
        "Now, there are still many 8bit micro-controllers. 8bit could represent from 0x00 to 0xFF\n"
      ]
    },
    {
      "metadata": {
        "id": "E0fLil7WRQ6I",
        "colab_type": "code",
        "outputId": "2fe7da52-d33e-498d-f847-10b0636077db",
        "colab": {
          "base_uri": "https://localhost:8080/",
          "height": 68
        }
      },
      "cell_type": "code",
      "source": [
        "'''\n",
        "  Convert Binary to Decimal\n",
        "'''\n",
        "decimal_value = 0\n",
        "\n",
        "# Get input string from user:\n",
        "input_str = input('Input a decimal number (eg, 1001): ')\n",
        "print('Binary Value is '+input_str)\n",
        "\n",
        "# Convert input string to decimal value\n",
        "for ch in input_str:\n",
        "  if (ch=='1') or (ch=='0'):\n",
        "    decimal_value = decimal_value*2 + int(ch)\n",
        "  elif ch == '_':\n",
        "    pass\n",
        "  else:\n",
        "    print('Ignore illigel character {}.'.format(ch))\n",
        "\n",
        "print('Decimal Value is {}'.format(decimal_value))"
      ],
      "execution_count": 0,
      "outputs": [
        {
          "output_type": "stream",
          "text": [
            "Input a decimal number (eg, 1001): 1_0000\n",
            "Binary Value is 1_0000\n",
            "Decimal Value is 16\n"
          ],
          "name": "stdout"
        }
      ]
    },
    {
      "metadata": {
        "id": "pcp_1k5XHH-E",
        "colab_type": "code",
        "outputId": "8e7937ba-5496-4578-f702-cab242e666f6",
        "colab": {
          "base_uri": "https://localhost:8080/",
          "height": 68
        }
      },
      "cell_type": "code",
      "source": [
        "'''\n",
        "  Convert Positive Decimal to Binary\n",
        "'''\n",
        "# Initialize values:\n",
        "decimal_value = 0\n",
        "binary_str = ''\n",
        "\n",
        "# Get input string from user:\n",
        "input_str = input('Input a decimal number (eg, 123): ')\n",
        "\n",
        "# Convert input string to decimal value\n",
        "for ch in input_str:\n",
        "  decimal_value = decimal_value*10 + int(ch)\n",
        "\n",
        "print('Decimal Value is {}'.format(decimal_value))\n",
        "\n",
        "# Convert decimal to binary string\n",
        "while decimal_value > 0:\n",
        "  res = decimal_value % 2\n",
        "  binary_str = str(res) + binary_str\n",
        "  decimal_value = decimal_value // 2\n",
        "  \n",
        "print('Binary Value is '+binary_str)"
      ],
      "execution_count": 0,
      "outputs": [
        {
          "output_type": "stream",
          "text": [
            "Input a decimal number (eg, 123): 11\n",
            "Decimal Value is 11\n",
            "Binary Value is 1011\n"
          ],
          "name": "stdout"
        }
      ]
    },
    {
      "metadata": {
        "id": "9gaweIvxVBlI",
        "colab_type": "code",
        "outputId": "178220f1-0b1e-4f1c-9a18-93e257f5e18c",
        "colab": {
          "base_uri": "https://localhost:8080/",
          "height": 85
        }
      },
      "cell_type": "code",
      "source": [
        "'''\n",
        "  Convert Binary to Hexadecimal\n",
        "'''\n",
        "decimal_value = 0\n",
        "hex_string = ''\n",
        "\n",
        "# Get input string from user:\n",
        "input_str = input('Input a decimal number (eg, 1001): ')\n",
        "print('Binary Value is '+input_str)\n",
        "\n",
        "# Convert input string to decimal value\n",
        "for ch in input_str:\n",
        "  if (ch=='1') or (ch=='0'):\n",
        "    decimal_value = decimal_value*2 + int(ch)\n",
        "  elif ch=='_':\n",
        "    pass\n",
        "  else:\n",
        "    print('Ignore illigel character {}.'.format(ch))\n",
        "\n",
        "print('Decimal Value is {}'.format(decimal_value))\n",
        "\n",
        "# Convert decimal to hex string\n",
        "while decimal_value > 0:\n",
        "  res = decimal_value % 16\n",
        "  if res < 10:\n",
        "    ch = str(res)\n",
        "  elif res == 10:\n",
        "    ch = 'A' \n",
        "  elif res == 11:\n",
        "    ch = 'B' \n",
        "  elif res == 12:\n",
        "    ch = 'C' \n",
        "  elif res == 13:\n",
        "    ch = 'D' \n",
        "  elif res == 14:\n",
        "    ch = 'E' \n",
        "  else:\n",
        "    ch = 'F' \n",
        "    \n",
        "  hex_string = ch + hex_string\n",
        "  decimal_value = decimal_value // 16\n",
        "  \n",
        "print('Hex Value is ' + hex_string)"
      ],
      "execution_count": 0,
      "outputs": [
        {
          "output_type": "stream",
          "text": [
            "Input a decimal number (eg, 1001): 1111_1100_0000_0001\n",
            "Binary Value is 1111_1100_0000_0001\n",
            "Decimal Value is 64513\n",
            "Hex Value is FC01\n"
          ],
          "name": "stdout"
        }
      ]
    },
    {
      "metadata": {
        "id": "tIap3hSAXJ7x",
        "colab_type": "code",
        "outputId": "ac7358bb-77a7-437d-8f33-eaccf926f5b3",
        "colab": {
          "base_uri": "https://localhost:8080/",
          "height": 68
        }
      },
      "cell_type": "code",
      "source": [
        "'''\n",
        "  Convert Positive Hexadecimal to Binary\n",
        "'''\n",
        "# Initialize values:\n",
        "decimal_value = 0\n",
        "binary_str = ''\n",
        "ADD_UNDERLINE = True  # Add _ every 4 bits. For readibility.\n",
        "\n",
        "# Get input string from user:\n",
        "input_str = input('Input a decimal number (eg, 123): ')\n",
        "\n",
        "# Convert input string to decimal value\n",
        "for ch in input_str:\n",
        "  if ch == 'F':\n",
        "    val = 15\n",
        "  elif ch == 'E':\n",
        "    val = 14\n",
        "  elif ch == 'D':\n",
        "    val = 13\n",
        "  elif ch == 'C':\n",
        "    val = 12\n",
        "  elif ch == 'B':\n",
        "    val = 11\n",
        "  elif ch == 'A':\n",
        "    val = 10\n",
        "  else:\n",
        "    val = int(ch)\n",
        "  \n",
        "  decimal_value = decimal_value*16 + val\n",
        "\n",
        "print('Decimal Value is {}'.format(decimal_value))\n",
        "\n",
        "# Convert decimal to binary string\n",
        "i = 0\n",
        "while decimal_value > 0:\n",
        "  if ((i%4) == 0) and (i>0) and ADD_UNDERLINE:\n",
        "    binary_str = '_' + binary_str\n",
        "\n",
        "  res = decimal_value % 2\n",
        "  binary_str = str(res) + binary_str\n",
        "  decimal_value = decimal_value // 2\n",
        "  i = i + 1\n",
        "  \n",
        "print('Binary Value is '+binary_str)"
      ],
      "execution_count": 0,
      "outputs": [
        {
          "output_type": "stream",
          "text": [
            "Input a decimal number (eg, 123): 10ABC\n",
            "Decimal Value is 68284\n",
            "Binary Value is 1_0000_1010_1011_1100\n"
          ],
          "name": "stdout"
        }
      ]
    },
    {
      "metadata": {
        "id": "KlOlwEa_evTV",
        "colab_type": "text"
      },
      "cell_type": "markdown",
      "source": [
        "#### 1’s and 2’s complement of a Binary Number"
      ]
    },
    {
      "metadata": {
        "id": "qYQ-dxz8BYV0",
        "colab_type": "text"
      },
      "cell_type": "markdown",
      "source": [
        "**So far so good, but what if we need negative numbers?**\n",
        "\n",
        "How about add a **SIGN** bit: \n",
        "\n",
        "| Value | Binary   | Negative  | Value |\n",
        "|-----------|-----------|-----------|-----------|\n",
        "| 0         | 0000  | 1000   | -0        |\n",
        "| 1         | 0001  | 1001   | -1        |\n",
        "| 2         | 0010  | 1010   | -2        |\n",
        "| 3         | 0011  | 1011   | -3        |\n",
        "| 4         | 0100  | 1100   | -4        |\n",
        "| 5         | 0101  | 1101   | -5        |\n",
        "| 6         | 0110  | 1110   | -6        |\n",
        "| 7         | 0111  | 1111   | -7        |\n",
        "\n",
        "Easy to understand, but, if we want to calculate 1 + (-1), not straight forward.\n",
        "\n",
        "We want Adder could calculate 'Add' and 'Subtract'.\n",
        "\n",
        "**One's complement**\n",
        "\n",
        "So,  why not just inverse every bit for negative numbers (so called **one's complement**)\n",
        "\n",
        "For example, 0000 will become 1111, and 1010 will be 0101.\n",
        "\n",
        "---\n",
        "| Value | Binary   | 1's Complement  | Value |\n",
        "|-----------|-----------|-----------|-----------|\n",
        "| 0         | 0000  |1111   | -0        |\n",
        "| 1         | 0001  |1110   | -1        |\n",
        "| 2         | 0010  |1101   | -2        |\n",
        "| 3         | 0011  |1100   | -3        |\n",
        "| 4         | 0100  |1011   | -4        |\n",
        "| 5         | 0101  |1010   | -5        |\n",
        "| 6         | 0110  |1001   | -6        |\n",
        "| 7         | 0111  |1000   | -7        |\n",
        "\n",
        "Let's calculate:\n",
        "\n",
        "3 - 2 = 1\n",
        "\n",
        "0011 + 1101 ==> 0000 and Carry = 1\n",
        "\n",
        "0000 + Carry ==> 0001\n",
        "\n",
        "3 - 4 = -1\n",
        "\n",
        "0011 + 1011 = 1110, Carry = 0\n",
        "\n",
        "(If Carry is 1, add one, otherwise, you got the answer already)\n",
        "\n",
        "Consider 'Carry' is not that good. We want the calculation cycle time is short and consist.\n",
        "And, 0 has 2 codes: 0000 and 1111, which is not beautiful.\n",
        "\n",
        "**Two's complement**\n",
        "\n",
        "| Value | Binary   | 2's Complement  | Value |\n",
        "|-----------|-----------|-----------|-----------|\n",
        "| 0         | 0000  | 0000  | -0        |\n",
        "| 1         | 0001  | 1111  | -1        |\n",
        "| 2         | 0010  | 1110  | -2        |\n",
        "| 3         | 0011  | 1101  | -3        |\n",
        "| 4         | 0100  | 1100  | -4        |\n",
        "| 5         | 0101  | 1011  | -5        |\n",
        "| 6         | 0110  | 1010  | -6        |\n",
        "| 7         | 0111  | 1001  | -7        |\n",
        "|            |            | 1000  | -8        |\n",
        "\n",
        "Guess what ! 0 and -0 use the same code! So, we have one code to represent a number (-8). Every number has an unique code.\n",
        "\n",
        "Let's do some calculation:\n",
        "\n",
        "3 - 2 = 1\n",
        "\n",
        "0011 + 1110 = 0001, Carry = 1\n",
        "\n",
        "3 - 4 = -1\n",
        "\n",
        "0011 + 1100 = 1111, Carry = 0\n",
        "\n",
        "(Actually, we don't care about Carry any more... Nice~)\n",
        "\n",
        "'Add' and 'Subtract' use the same circuit. ==> Better than use sign bit\n",
        "\n",
        "One cycle and job done. ==> Better than 1's complement\n",
        "\n",
        "Zero has only one code. ==> Better than both sign-bit method and 1's complement."
      ]
    },
    {
      "metadata": {
        "id": "bJ9oyz6qB2dY",
        "colab_type": "code",
        "outputId": "717fb8cc-c649-416d-d606-af22b8bf2d9f",
        "colab": {
          "base_uri": "https://localhost:8080/",
          "height": 323
        }
      },
      "cell_type": "code",
      "source": [
        "'''\n",
        "  One's Complement\n",
        "'''\n",
        "\n",
        "def ones_checker(a,b):\n",
        "  for i in range(len(a)):\n",
        "    if a[i] == b[i]:\n",
        "      print('[Error] {} {}'.format(a,b))\n",
        "      return\n",
        "  \n",
        "  print('[1sC] {} ==> {} '.format(a,b))\n",
        "\n",
        "def ones_complement(bin_string):\n",
        "  ones_string = ''\n",
        "  for ch in bin_string:\n",
        "    if ch == '0':\n",
        "      bi = '1'\n",
        "    else:\n",
        "      bi = '0'\n",
        "    \n",
        "    ones_string = ones_string + bi\n",
        "\n",
        "  return ones_string\n",
        "\n",
        "\n",
        "if __name__ == '__main__': \n",
        "  words = ['0000','0001','0010','0011','0100','0101','0110','0111','1000','1001','1010','1011','1100','1101','1110','1111']\n",
        "  print('One\\'s Comlement')\n",
        "  for word in words:\n",
        "    res = ones_complement(word)\n",
        "    ones_checker(word,res)\n",
        "    "
      ],
      "execution_count": 0,
      "outputs": [
        {
          "output_type": "stream",
          "text": [
            "One's Comlement\n",
            "[OK] 0000 ==> 1111 \n",
            "[OK] 0001 ==> 1110 \n",
            "[OK] 0010 ==> 1101 \n",
            "[OK] 0011 ==> 1100 \n",
            "[OK] 0100 ==> 1011 \n",
            "[OK] 0101 ==> 1010 \n",
            "[OK] 0110 ==> 1001 \n",
            "[OK] 0111 ==> 1000 \n",
            "[OK] 1000 ==> 0111 \n",
            "[OK] 1001 ==> 0110 \n",
            "[OK] 1010 ==> 0101 \n",
            "[OK] 1011 ==> 0100 \n",
            "[OK] 1100 ==> 0011 \n",
            "[OK] 1101 ==> 0010 \n",
            "[OK] 1110 ==> 0001 \n",
            "[OK] 1111 ==> 0000 \n",
            "[Error] 1101 0000\n"
          ],
          "name": "stdout"
        }
      ]
    },
    {
      "metadata": {
        "id": "SWDuIShafzXH",
        "colab_type": "text"
      },
      "cell_type": "markdown",
      "source": [
        "To understand an 'Adder', you need to add 1 bit first.\n",
        "\n",
        "Half adder is an one bit adder that don't care about 'Carry In'.\n",
        "\n",
        "Full adder is an one bit adder that brings in 'Carry'.\n",
        "\n",
        "*The philosophy of \"Full Adder\": When you add 2 numbers, actually, you add 3 numbers: 2 inputs and 1 carry.*\n",
        "\n",
        "Let's begin from Transistor level:\n"
      ]
    },
    {
      "metadata": {
        "id": "ns1OKNhcRqMW",
        "colab_type": "text"
      },
      "cell_type": "markdown",
      "source": [
        "** CMOS is made by NMOS and PMOS **\n",
        "\n",
        "\n",
        "<p><a href=\"https://commons.wikimedia.org/wiki/File:Cmos_impurity_profile.PNG#/media/File:Cmos_impurity_profile.PNG\"><img src=\"https://upload.wikimedia.org/wikipedia/commons/6/62/Cmos_impurity_profile.PNG\" alt=\"Cmos impurity profile.PNG\"></a><br>By Reza Mirhosseini - originally uploaded to en.wikipedia (<a class=\"external text\" href=\"http://en.wikipedia.org/w/index.php?title=Special:Log&amp;page=File:Cmos_impurity_profile.PNG\">file log</a>), Public Domain, <a href=\"https://commons.wikimedia.org/w/index.php?curid=12271062\">Link</a></p>"
      ]
    },
    {
      "metadata": {
        "id": "4XaMgsvXRHPk",
        "colab_type": "text"
      },
      "cell_type": "markdown",
      "source": [
        "** \"NOT\" Gates **\n",
        "\n",
        "<p><a href=\"https://commons.wikimedia.org/wiki/File:CMOS_Inverter.svg#/media/File:CMOS_Inverter.svg\"><img width='50%' src=\"https://upload.wikimedia.org/wikipedia/commons/thumb/8/81/CMOS_Inverter.svg/1200px-CMOS_Inverter.svg.png\" alt=\"CMOS Inverter.svg\"></a><br>By inductiveload - Own drawing, Inkscape 0.43, Public Domain, <a href=\"https://commons.wikimedia.org/w/index.php?curid=942964\">Link</a></p>"
      ]
    },
    {
      "metadata": {
        "id": "txTWiVvbTMcC",
        "colab_type": "text"
      },
      "cell_type": "markdown",
      "source": [
        "**NAND Gate in CMOS logic**\n",
        "\n",
        "\n",
        "<p><a href=\"https://commons.wikimedia.org/wiki/File:CMOS_NAND.svg#/media/File:CMOS_NAND.svg\"><img width='50%' src=\"https://upload.wikimedia.org/wikipedia/commons/thumb/e/e2/CMOS_NAND.svg/1200px-CMOS_NAND.svg.png\" alt=\"CMOS NAND.svg\"></a><br>By <a href=\"//commons.wikimedia.org/w/index.php?title=User:JustinForce&amp;action=edit&amp;redlink=1\" class=\"new\" title=\"User:JustinForce (page does not exist)\">JustinForce</a> - <span class=\"int-own-work\" lang=\"en\">Own work</span>, <a href=\"https://creativecommons.org/licenses/by-sa/3.0\" title=\"Creative Commons Attribution-Share Alike 3.0\">CC BY-SA 3.0</a>, <a href=\"https://commons.wikimedia.org/w/index.php?curid=2593317\">Link</a></p>\n",
        "\n",
        "**NAND Gate physic layout**\n",
        "\n",
        "<p><a href=\"https://commons.wikimedia.org/wiki/File:CMOS_NAND_Layout.svg#/media/File:CMOS_NAND_Layout.svg\"><img width='50%' src=\"https://upload.wikimedia.org/wikipedia/commons/thumb/8/8f/CMOS_NAND_Layout.svg/1200px-CMOS_NAND_Layout.svg.png\" alt=\"CMOS NAND Layout.svg\"></a><br>By <a href=\"https://en.wikipedia.org/wiki/User:Jamesm76\" class=\"extiw\" title=\"wikipedia:User:Jamesm76\">Jamesm76</a> at <a href=\"https://en.wikipedia.org/wiki/\" class=\"extiw\" title=\"wikipedia:\">English Wikipedia</a> - Transferred from <span class=\"plainlinks\"><a class=\"external text\" href=\"//en.wikipedia.org\">en.wikipedia</a></span> to Commons., Public Domain, <a href=\"https://commons.wikimedia.org/w/index.php?curid=2944072\">Link</a></p>"
      ]
    },
    {
      "metadata": {
        "id": "yJe-mpTjPjtP",
        "colab_type": "text"
      },
      "cell_type": "markdown",
      "source": [
        "** Half Adder **\n",
        "\n",
        "<p><a href=\"https://commons.wikimedia.org/wiki/File:Half_Adder.svg#/media/File:Half_Adder.svg\"><img width='50%' src=\"https://upload.wikimedia.org/wikipedia/commons/thumb/d/d9/Half_Adder.svg/1200px-Half_Adder.svg.png\" alt=\"Half Adder.svg\"></a><br>By inductiveload - <span class=\"int-own-work\" lang=\"en\">Own work</span>, Public Domain, <a href=\"https://commons.wikimedia.org/w/index.php?curid=1023090\">Link</a></p>"
      ]
    },
    {
      "metadata": {
        "id": "fC_rNM-xQNv_",
        "colab_type": "text"
      },
      "cell_type": "markdown",
      "source": [
        "** Full Adder **\n",
        "\n",
        "<p><a href=\"https://commons.wikimedia.org/wiki/File:Full-adder_logic_diagram.svg#/media/File:Full-adder_logic_diagram.svg\"><img src=\"https://upload.wikimedia.org/wikipedia/commons/thumb/6/69/Full-adder_logic_diagram.svg/1200px-Full-adder_logic_diagram.svg.png\" alt=\"Full-adder logic diagram.svg\"></a><br>By <a href=\"//commons.wikimedia.org/wiki/User:Inductiveload\" title=\"User:Inductiveload\">Inductiveload</a> - <span class=\"int-own-work\" lang=\"en\">Own work</span>, Public Domain, <a href=\"https://commons.wikimedia.org/w/index.php?curid=1023334\">Link</a></p>"
      ]
    },
    {
      "metadata": {
        "id": "3jzWi5dVNWI3",
        "colab_type": "code",
        "outputId": "4925cd77-e0f3-438d-da1f-c0aea99440db",
        "colab": {
          "base_uri": "https://localhost:8080/",
          "height": 34
        }
      },
      "cell_type": "code",
      "source": [
        "'''\n",
        "  Half Adder\n",
        "'''\n",
        "def char_xor(a,b):\n",
        "  if a != b:\n",
        "    ret = '1'\n",
        "  else:\n",
        "    ret = '0'\n",
        "    \n",
        "  return ret\n",
        "    \n",
        "def char_and(a,b):\n",
        "  if (a == b) and (a == '1'):\n",
        "    ret = '1'\n",
        "  else:\n",
        "    ret = '0'\n",
        "\n",
        "  return ret\n",
        "\n",
        "def char_or(a,b):\n",
        "  if (a == '1') or (b == '1'):\n",
        "    ret = '1'\n",
        "  else:\n",
        "    ret = '0'\n",
        "\n",
        "  return ret\n",
        "\n",
        "    \n",
        "def char_half_adder(a,b):\n",
        "  sum = char_xor(a,b)\n",
        "  carry = char_and(a,b)\n",
        "  return sum, carry\n",
        "\n",
        "def char_full_adder(a,b,c):\n",
        "  s1,c1 = char_half_adder(a,b)\n",
        "  s2,c2 = char_half_adder(s1,c)\n",
        "  cout = char_or(c1,c2)\n",
        "  return s2,cout\n",
        "\n",
        "\n",
        "char_full_adder('1','1','0')\n"
      ],
      "execution_count": 0,
      "outputs": [
        {
          "output_type": "execute_result",
          "data": {
            "text/plain": [
              "('0', '1')"
            ]
          },
          "metadata": {
            "tags": []
          },
          "execution_count": 27
        }
      ]
    },
    {
      "metadata": {
        "id": "8cqQxvjB0Bem",
        "colab_type": "code",
        "outputId": "8eb930c2-8b01-49a5-b5ad-0339bf7ef748",
        "colab": {
          "base_uri": "https://localhost:8080/",
          "height": 51
        }
      },
      "cell_type": "code",
      "source": [
        "'''\n",
        "  Add Two Binary\n",
        "'''\n",
        "def char_adder(a,b,c):\n",
        "  '''\n",
        "    The result equal to a full adder\n",
        "    a,b,c are 2 inputs and one carry-in\n",
        "    output the sum and carry as string\n",
        "  '''\n",
        "  val = 0\n",
        "  if a =='1':\n",
        "    val = val + 1\n",
        "  if b =='1':\n",
        "    val = val + 1\n",
        "  if c =='1':\n",
        "    val = val + 1\n",
        "\n",
        "  if (val%2) == 1:\n",
        "    sum = '1'\n",
        "  else:\n",
        "    sum = '0'\n",
        "\n",
        "  if (val//2) == 1:\n",
        "    carry = '1'\n",
        "  else:\n",
        "    carry = '0'\n",
        "\n",
        "  return sum,carry\n",
        "\n",
        "def bin_adder(a,b):\n",
        "  # Reverse the string and later we read from LSB to MSB\n",
        "  aRev = a[::-1]\n",
        "  bRev = b[::-1]\n",
        "  carry = '0'\n",
        "  \n",
        "  aLength = len(aRev)\n",
        "  bLength = len(bRev)\n",
        "  length = max(aLength, bLength)\n",
        "\n",
        "  res = ''\n",
        "  for i in range(length):\n",
        "    # Take a Char from A string\n",
        "    if i < aLength:\n",
        "      aCh = aRev[i]\n",
        "    else:\n",
        "      aCh = '0'\n",
        "    # Take a Char from B string\n",
        "    if i < bLength:\n",
        "      bCh = bRev[i]\n",
        "    else:\n",
        "      bCh = '0'\n",
        "  \n",
        "    # sum, carry = char_adder(aCh,bCh,carry)\n",
        "    sum, carry = char_full_adder(aCh,bCh,carry)\n",
        "    res = sum + res\n",
        "  \n",
        "  return res,carry\n",
        "\n",
        "\n",
        "  \n",
        "if __name__ == '__main__': \n",
        "  print('Binary Adder')\n",
        "#   res, carry = bin_adder('0001','0001')  \n",
        "#   print(res, carry)\n",
        "  words = ['0000','0001','0010','0011','0100','0101','0110','0111','1000','1001','1010','1011','1100','1101','1110','1111']\n",
        "  for aWord in words:\n",
        "    for bWord in words:\n",
        "      res, carry = bin_adder(aWord,bWord)\n",
        "      print('{} + {} = {}{}'.format(aWord,bWord,carry,res), end = '\\t')\n"
      ],
      "execution_count": 0,
      "outputs": [
        {
          "output_type": "stream",
          "text": [
            "Binary Adder\n",
            "0010 0\n"
          ],
          "name": "stdout"
        }
      ]
    },
    {
      "metadata": {
        "id": "9xw7dGM7GBos",
        "colab_type": "code",
        "outputId": "0f4f8477-af07-41bf-d23e-a46bc49a83f5",
        "colab": {
          "base_uri": "https://localhost:8080/",
          "height": 306
        }
      },
      "cell_type": "code",
      "source": [
        "'''\n",
        "  Two's Complement\n",
        "'''\n",
        "\n",
        "def reverse_string(aString):\n",
        "  return aString[::-1]\n",
        "\n",
        "def plus_one(bString):\n",
        "  revString = reverse_string(bString)\n",
        "  retString = ''\n",
        "  isCarry = True\n",
        "  for ch in revString:\n",
        "    if isCarry:\n",
        "      if ch == '1':\n",
        "        retString = '0' + retString\n",
        "      else:\n",
        "        isCarry = False\n",
        "        retString = '1' + retString\n",
        "    else:\n",
        "      retString = ch + retString\n",
        "      \n",
        "  if isCarry:\n",
        "    carry = '1'\n",
        "  else:\n",
        "    carry = '0'\n",
        "    \n",
        "  return retString, carry\n",
        "\n",
        "def ones_complement(bString):\n",
        "  ones_string = ''\n",
        "  for ch in bString:\n",
        "    if ch == '0':\n",
        "      bi = '1'\n",
        "    else:\n",
        "      bi = '0'\n",
        "    \n",
        "    ones_string = ones_string + bi\n",
        "\n",
        "  return ones_string\n",
        "\n",
        "def twos_complement(bString):\n",
        "  ones = ones_complement(bString)\n",
        "  twos,carry = plus_one(ones)\n",
        "  return twos\n",
        "\n",
        "def twos_checker(a,b):\n",
        "  res,carry = bin_adder(a,b)\n",
        "  for ch in res:\n",
        "    if ch == '1':\n",
        "      print('[ERROR] {} ==> {}'.format(a,b))\n",
        "      return\n",
        "  \n",
        "  print('[TWO\\'s] {} ==> {}'.format(a,b))\n",
        "\n",
        "if __name__ == '__main__': \n",
        "  words = ['0000','0001','0010','0011','0100','0101','0110','0111','1000','1001','1010','1011','1100','1101','1110','1111']\n",
        "  print('Two\\'s Comlement')\n",
        "  for word in words:\n",
        "    res = twos_complement(word)\n",
        "    twos_checker(word,res)\n"
      ],
      "execution_count": 0,
      "outputs": [
        {
          "output_type": "stream",
          "text": [
            "Two's Comlement\n",
            "[TWO's] 0000 ==> 0000\n",
            "[TWO's] 0001 ==> 1111\n",
            "[TWO's] 0010 ==> 1110\n",
            "[TWO's] 0011 ==> 1101\n",
            "[TWO's] 0100 ==> 1100\n",
            "[TWO's] 0101 ==> 1011\n",
            "[TWO's] 0110 ==> 1010\n",
            "[TWO's] 0111 ==> 1001\n",
            "[TWO's] 1000 ==> 1000\n",
            "[TWO's] 1001 ==> 0111\n",
            "[TWO's] 1010 ==> 0110\n",
            "[TWO's] 1011 ==> 0101\n",
            "[TWO's] 1100 ==> 0100\n",
            "[TWO's] 1101 ==> 0011\n",
            "[TWO's] 1110 ==> 0010\n",
            "[TWO's] 1111 ==> 0001\n"
          ],
          "name": "stdout"
        }
      ]
    },
    {
      "metadata": {
        "id": "-7I3jujfe9Dx",
        "colab_type": "text"
      },
      "cell_type": "markdown",
      "source": [
        "#### Floating Point Expression"
      ]
    },
    {
      "metadata": {
        "id": "4eh1XI7Lm9Km",
        "colab_type": "text"
      },
      "cell_type": "markdown",
      "source": [
        "IEEE 754 Floating Point Expression\n",
        "\n",
        "$ Floating Point Value = (-1)^S \\times (1+F) \\times 10^{(E-bias)} $\n",
        "\n",
        "  |S | E| F| NOTE\n",
        "  |---|---|---|---|\n",
        "  |1| 8 |   23   | 32 bit (float)\n",
        "  |1|11 |   52   | 64 bit (double)\n",
        "  \n",
        "S: Sign\n",
        "\n",
        "E: Exponent\n",
        "\n",
        "F: Fraction ($ 0 \\leq F < 1 $)\n",
        "\n",
        "bias = 127\n",
        "\n",
        "reference: [http://www.oxfordmathcenter.com/drupal7/node/43]\n"
      ]
    },
    {
      "metadata": {
        "id": "2NOKRM5YHPMp",
        "colab_type": "code",
        "outputId": "d642372e-cd05-4641-f795-3bd666cdf5cf",
        "colab": {
          "base_uri": "https://localhost:8080/",
          "height": 153
        }
      },
      "cell_type": "code",
      "source": [
        "'''\n",
        "  IEEE 754 Floating Point Expression\n",
        "  +-+---+--------+\n",
        "  |S|EXP|FRACTION|\n",
        "  +-+---+--------+\n",
        "  |1| 8 |   23   | 32 bit (float)\n",
        "  +-+---+--------+\n",
        "  |1|11 |   52   | 64 bit (double)\n",
        "  +-+---+--------+\n",
        "'''\n",
        "\n",
        "# for integers\n",
        "print(float(100))\n",
        "\n",
        "# for floats\n",
        "print(float(11.22334455))\n",
        "\n",
        "# for string floats\n",
        "print(float(\"-9.999999\"))\n",
        "\n",
        "# for Not a Number\n",
        "print(float(\"nan\"))\n",
        "print(float(\"NaN\"))\n",
        "\n",
        "# for inf/infinity\n",
        "print(float(\"inf\"))\n",
        "print(float(\"infinity\"))\n",
        "\n",
        "print(float(\"inf\")/float(\"inf\"))\n",
        "\n"
      ],
      "execution_count": 7,
      "outputs": [
        {
          "output_type": "stream",
          "text": [
            "100.0\n",
            "11.22334455\n",
            "-9.999999\n",
            "nan\n",
            "nan\n",
            "inf\n",
            "inf\n",
            "nan\n"
          ],
          "name": "stdout"
        }
      ]
    },
    {
      "metadata": {
        "id": "avItGJaQlzbo",
        "colab_type": "text"
      },
      "cell_type": "markdown",
      "source": [
        "### Unit 2 - Photo Editing and Adobe Photoshop"
      ]
    },
    {
      "metadata": {
        "id": "8QxROuw3bCtS",
        "colab_type": "text"
      },
      "cell_type": "markdown",
      "source": [
        "#### Image file formats\n",
        "- .png: Portable Network Graphics, support lossless compression (DEFLATE). 1995.\n",
        "- .jpg:  Joint Photographic Experts Group defined it in 1992. Lossy compreesion(DCT).\n",
        "- .gif: Graphics Interchange Format, support lossless compression (LZW). 1987.\n",
        "\n",
        "#### Color Space\n",
        "- RGB (RGBA): Red/Green/Blue/Alpha, 8bit for each channel.\n",
        "- YUV: Y is the brightness, U / V sometimes called Cb / Cr channel, represents color. Lagecy use for data compression. More bits for Y, less bits for Color.\n",
        "- HSV: Hue / Saturation / Brightness\n",
        "- CMYK: Cyan / Magenta / Yellow / Black. Use in printers.\n",
        "\n"
      ]
    },
    {
      "metadata": {
        "id": "wAIILlkdr4JN",
        "colab_type": "text"
      },
      "cell_type": "markdown",
      "source": [
        "\n",
        "\n",
        "<p><a href=\"https://commons.wikimedia.org/wiki/File:Munsell-system.svg#/media/File:Munsell-system.svg\"><img width=\"75%\" src=\"https://upload.wikimedia.org/wikipedia/commons/thumb/d/d5/Munsell-system.svg/1200px-Munsell-system.svg.png\" alt=\"Munsell-system.svg\"></a><br><a href=\"https://creativecommons.org/licenses/by-sa/3.0\" title=\"Creative Commons Attribution-Share Alike 3.0\">CC BY-SA 3.0</a>, <a href=\"https://commons.wikimedia.org/w/index.php?curid=1955750\">Link</a></p>"
      ]
    },
    {
      "metadata": {
        "id": "LcGQHljCl4nd",
        "colab_type": "text"
      },
      "cell_type": "markdown",
      "source": [
        "### Unit 3 - Spreadsheets and Microsoft Excel"
      ]
    },
    {
      "metadata": {
        "id": "GXexU3-KbSYc",
        "colab_type": "text"
      },
      "cell_type": "markdown",
      "source": [
        "<p>\n",
        "<iframe src=\"https://docs.google.com/spreadsheets/d/e/2PACX-1vQjnnzsiySCwPc9GmKrCa_p9q-K9CfHyIGDHOs-M8ZwkAOx7--n8sg2SFi27DWVI6cfgMnjR-eXXgp-/pubhtml?gid=0&amp;single=true&amp;widget=true&amp;headers=false\"></iframe>\n",
        "  </p>\n",
        "\n"
      ]
    },
    {
      "metadata": {
        "id": "4ikkTuf_mDJ9",
        "colab_type": "text"
      },
      "cell_type": "markdown",
      "source": [
        "### Unit 4 - Data and Compression"
      ]
    },
    {
      "metadata": {
        "id": "Qa4uJdoOwYyL",
        "colab_type": "text"
      },
      "cell_type": "markdown",
      "source": [
        "Why compression? Ur... why not?\n",
        "\n",
        "Compression means you will loss some data? Yes but sometimes no.\n",
        "\n",
        "For example, a light blink once per second. I use a sensor to sense the brightness, with sampling rate 12Hz. So I will get:\n",
        "\n",
        "HHHHHHLLLLLLHHHHHHLLLLLLHHHHHHLLLLLLHHHHHHLLLLLL...\n",
        "\n",
        "If I down sample the data to 6Hz, it will be: HHHLLLHHHLLLHHHLLLHHHLLL\n",
        "\n",
        "If I down sample again to 2Hz, it will be : HLHLHL\n",
        "\n",
        "Actually I loss nothing. Because I can up sampling it to 12Hz with no error.\n",
        "\n",
        "But if I do down sample to 1Hz, it will be: HHH or LLL, which is totally wrong.\n",
        "\n",
        "So, the first thing you should know in compression is **Nyquest Theorem**:\n",
        "\n",
        "*If the data frequency is f, the minimun sampling frequency is 2f*\n",
        "\n",
        "It's the free lunch in compression.\n",
        "\n",
        "\n"
      ]
    },
    {
      "metadata": {
        "id": "DaRsUdsoLj8_",
        "colab_type": "text"
      },
      "cell_type": "markdown",
      "source": [
        "For human ear, we may hear audio from 20 to 20kHz. By Nyquest theorem, 40kHz sampling rate is good enough. \n",
        "\n",
        "CD: 44.1kHz\n",
        "\n",
        "DVD: 48kHz\n",
        "\n",
        "Some recorders can record 96k Hz or 192 kHz. Those considerations are not for playback. Those files are for manipulating sounds without sacrifying high frequency contents."
      ]
    },
    {
      "metadata": {
        "id": "UXcwXCwZN-02",
        "colab_type": "text"
      },
      "cell_type": "markdown",
      "source": [
        "In digital world, we need to care about sampling rate and also quantization errors. Quantization means we represent a value by how many bits of data. Quantization happend in the process from analog to digital, and also later digital signal processing. Quantization introduced noise into data, for 8bit, signal to noise ratio (SNR) is 48dB; 16bit SNR is 96dB. \n",
        "\n",
        "For audio, 24bit (144dB) is good, 16bit(96dB) is okay.\n",
        "\n",
        "For video, 8bit for each color of RGB is normal. 12bit is good.\n",
        "\n"
      ]
    },
    {
      "metadata": {
        "id": "mHTnH9s8QxjU",
        "colab_type": "text"
      },
      "cell_type": "markdown",
      "source": [
        "** Lossy and Lossless Compression **\n",
        "\n",
        "Lossy means you cannot recover to 100% same data before compression. Lossless means you can 100% recover.\n",
        "\n",
        "Lossy used in audio, video and still images.\n",
        "\n",
        "Lossless used in text or database compression. And also used in audio/video field.\n"
      ]
    },
    {
      "metadata": {
        "id": "Y2QSe9RKS2_V",
        "colab_type": "code",
        "colab": {
          "base_uri": "https://localhost:8080/",
          "height": 85
        },
        "outputId": "938eadc6-987d-4274-9762-360e2584e521"
      },
      "cell_type": "code",
      "source": [
        "'''\n",
        "  Compression example: Run length Encoding\n",
        "'''\n",
        "\n",
        "def rld(instr):\n",
        "  '''\n",
        "  run length decoding\n",
        "  '''\n",
        "  outstr = ''   # output string\n",
        "  key_str = ''  # character\n",
        "  val_str = ''  # length of the char\n",
        "  for ch in instr:\n",
        "    if not ch.isdigit():\n",
        "      if val_str:\n",
        "        for i in range(int(val_str)):\n",
        "          outstr += key_str\n",
        "\n",
        "        val_str = ''\n",
        "      key_str = ch        \n",
        "    else:\n",
        "      val_str += ch\n",
        "      \n",
        "  for i in range(int(val_str)):\n",
        "    outstr += key_str \n",
        "    \n",
        "  return outstr\n",
        "\n",
        "def rle(instr):\n",
        "  '''\n",
        "  run length encoding\n",
        "  '''\n",
        "  outstr = \"\"\n",
        "  first_ch = True\n",
        "  length = 0\n",
        "  \n",
        "  for ch in instr:\n",
        "    if first_ch:\n",
        "      first_ch = False\n",
        "      outstr += ch\n",
        "      ch_prev = ch\n",
        "      length += 1\n",
        "    elif ch != ch_prev:\n",
        "      outstr += str(length)\n",
        "      outstr += ch\n",
        "      length = 1\n",
        "      ch_prev = ch\n",
        "    else:\n",
        "      length += 1\n",
        "      \n",
        "\n",
        "  outstr += str(length)\n",
        "  return outstr\n",
        "\n",
        "if __name__ == \"__main__\":\n",
        "  instr='HHHHLLLLHHHHLLLLHHLLHLHHLLHHHLLL'\n",
        "#   instr='xxxxxxxxxxxxxxxxxxxxxxxxxxxxxxxxxxxxxxxxxxyyyyyyyyyzzzzzzz'\n",
        "#   instr='It_is_not_suitable for text'\n",
        "  outstr = rle(instr)\n",
        "  decstr = rld(outstr)\n",
        "  print('Input:  ' + instr)\n",
        "  print('Output: ' + outstr)\n",
        "  print('Decode: ' + decstr)\n",
        "  print(f'Length from {len(instr)} compressed to {len(outstr)}, Space Saving = {100.0 - 100.0*len(outstr)/len(instr):.2f}%')\n",
        "  \n"
      ],
      "execution_count": 46,
      "outputs": [
        {
          "output_type": "stream",
          "text": [
            "Input:  HHHHLLLLHHHHLLLLHHLLHLHHLLHHHLLL\n",
            "Output: H4L4H4L4H2L2H1L1H2L2H3L3\n",
            "Decode: HHHHLLLLHHHHLLLLHHLLHLHHLLHHHLLL\n",
            "Length from 32 compressed to 24, Space Saving = 25.00%\n"
          ],
          "name": "stdout"
        }
      ]
    },
    {
      "metadata": {
        "id": "9Wy8zAeGmOTu",
        "colab_type": "text"
      },
      "cell_type": "markdown",
      "source": [
        "### Unit 5 - The Internet\n",
        "\n",
        "** Terminology **\n",
        "\n",
        "IP : Internet Protocol\n",
        "\n",
        "TCP: Transmission Control Protocol\n",
        "\n",
        "UDP:  User Datagram Protocol\n",
        "\n",
        "| TCP\t| UDP |\n",
        "| --- | --- |\n",
        "| Reliable\t| Unreliable |\n",
        "| Connection-oriented\t| Connectionless | \n",
        "| Segment retransmission and flow control <br> through windowing\t| No windowing or <or> retransmission | \n",
        "| Segment sequencing\t| No sequencing | \n",
        "| Acknowledge sequencing\t| No acknowledgment | \n",
        "\n",
        "IP Address: Is an address assigned and kept in software for each device. Many device could share a same IP address.\n",
        "  \n",
        "MAC Address: is an address kept in ROM (hardware). Physically added by manufacturer.\n",
        "  \n",
        "IPv4: Internet protocol version 4, use 4 byte to represent an address. For example: 140.114.29.100 ( each value is one byte, that is from 0 to 255)\n",
        "  \n",
        "IPv6 use 16 byte for IP address. For example: \n",
        "  \n",
        "  2001:0DB8:8BAD:F00D:0000:ACED:DEAD:5978\n",
        "  \n",
        "  \n",
        "** OSI Model ** (Open Systems Interconnection Model, ISO/IEC 7498-1)\n",
        "  \n",
        "*Layer 1: Physical Layer*\n",
        "  \n",
        "  Bluetooth, Ethernet, USB, RS232...\n",
        "  \n",
        "  Defined pins, voltage, data rate, frequency, transmission mode, bit rate control.\n",
        "  \n",
        "*Layer 2: Link Layer*\n",
        "  \n",
        "  802.3 Ethernet, 802.11 Wi-Fi, and 802.15.4 ZigBee, PPP...\n",
        "  \n",
        "  It defines the protocol to establish and terminate a connection between two physically connected devices. It also defines the protocol for flow control between them.\n",
        "  \n",
        "  IEEE 802 Defined 2 sub-layer here:\n",
        "  - Medium access control (MAC) layer: get permission to transmit data\n",
        "  - Logical link control (LLC) layer: error checking and frame synchronization\n",
        "  \n",
        "*Layer 3: Network Layer* \n",
        "  \n",
        "  IPv4/IPv6, IPX, IPsec (used in VPN)\n",
        "  \n",
        "  Connectionless communication (send data without acknowledge), Host addressing, Message forwarding.\n",
        "  \n",
        "*Layer 4: Transport Layer*\n",
        "  \n",
        "  TCP, UDP, ATP(AppleTalk), RDP\n",
        "  \n",
        "  The protocols of this layer provide host-to-host communication services for applications. It provides services such as connection-oriented communication, reliability, flow control, and multiplexing.\n",
        "\n",
        "  *Layer 5/6/7: Session Layer/Presentation Layer/Application Layer*\n",
        "  \n",
        "  DHCP, DNS, FTP, HTTP, HTTPS, IMAP, MQTT, POP, SMTP, SSH, Telnet TLS/SSL, Bitcoin\n",
        "  \n",
        "  For internet protocol, we usually see layer 5/6/7 as one, called application layer. There are so many protocols in application layer. Using the intrastructure, application layer finish the task it designed to do, and provided so called  ** Internet Services **.\n",
        "  \n",
        "\n",
        "  "
      ]
    },
    {
      "metadata": {
        "id": "_2LamXywH6L4",
        "colab_type": "text"
      },
      "cell_type": "markdown",
      "source": [
        "** What is... **\n",
        "\n",
        "Modem\n",
        "\n",
        "Router\n",
        "\n",
        "DNS (Domain Name Service)"
      ]
    },
    {
      "metadata": {
        "id": "V0GeDxKsmY5l",
        "colab_type": "text"
      },
      "cell_type": "markdown",
      "source": [
        "### Unit 6 - HTML, CSS and Adobe Dreamweaver"
      ]
    },
    {
      "metadata": {
        "id": "EJSPr7hJIgcp",
        "colab_type": "text"
      },
      "cell_type": "markdown",
      "source": [
        "HTML(Hypertext Markup Language) is a markup language,  which is one kind of annotating document. It only describes what elements in the document, and the attributes of each element.\n",
        "\n",
        "CSS(Cascading Style Sheets) is a style sheet language used for describing the presentation of a document. It describe how to present the elements in the document.\n",
        "\n",
        "HTML and CSS are NOT programming language. \n",
        "\n",
        "Video to watch: [HTML CSS and Javascript](https://www.youtube.com/embed/uEmF74eHRO8)\n",
        "\n",
        "Try on web: [CS50 IDE](https://ide.cs50.io/) (need github account)\n",
        "\n",
        "You may watch video on Youtube, or may get lecture here:\n",
        "\n",
        "[C Language I](https://docs.cs50.net/2017/fall/notes/1/lecture1.html)\n",
        "\n",
        "[C Language II](https://docs.cs50.net/2017/fall/notes/2/lecture2.html)\n",
        "\n",
        "[Searching and Sorting](https://docs.cs50.net/2017/fall/notes/3/lecture3.html)\n",
        "\n",
        "[Memory](https://docs.cs50.net/2017/fall/notes/4/lecture4.html)\n",
        "\n",
        "[Structure and Tree](https://docs.cs50.net/2017/fall/notes/5/lecture5.html)\n",
        "\n",
        "[HTTP, HTML and CSS](https://docs.cs50.net/2017/fall/notes/6/lecture6.html)\n",
        "\n",
        "[Dynamic Programming](https://docs.cs50.net/2017/fall/notes/7/lecture7.html)\n",
        "\n",
        "[Python](https://docs.cs50.net/2017/fall/notes/8/lecture8.html)\n",
        "\n",
        "[Web Programming](https://docs.cs50.net/2017/fall/notes/9/lecture9.html)\n",
        "\n",
        "[Cookies](https://docs.cs50.net/2017/fall/notes/10/lecture10.html)\n",
        "\n",
        "[MVC and Javascript](https://docs.cs50.net/2017/fall/notes/11/lecture11.html)\n",
        "\n",
        "[Themes](https://docs.cs50.net/2017/fall/notes/12/lecture12.html)\n",
        "\n",
        "\n",
        "\n",
        "Try locally: Atom + Emmet + Linter\n",
        "\n",
        "HTML is the language to read by a web browser and layout as web page.\n",
        "CSS(Cascading Style Sheets) is used for describing the presentation of a document written in HTML.\n",
        "\n",
        "(But actually, without Javascript, HTML/CSS could do very little things...)\n",
        "\n",
        "[Learn HTML](https://www.w3schools.com/html/)\n",
        "\n",
        "[Learn CSS](https://www.w3schools.com/css/default.asp)\n",
        "\n",
        "Learn JavaScript? Smart! But wait until last unit... okay, since you may find it by yourself, here is a link: [Learn JS](https://www.w3schools.com/js/default.asp)\n"
      ]
    },
    {
      "metadata": {
        "id": "k3bPxG0rmRuV",
        "colab_type": "text"
      },
      "cell_type": "markdown",
      "source": [
        "The DOM (Document Object Model) is an API that represents and interacts with any HTML or XML document. The DOM is a document model loaded in the browser and representing the document as a node tree, where each node represents part of the document (e.g. an element, text string, or comment)."
      ]
    },
    {
      "metadata": {
        "id": "fUC4T2a-mhaD",
        "colab_type": "text"
      },
      "cell_type": "markdown",
      "source": [
        "### Unit 7 - Big Data and Security"
      ]
    },
    {
      "metadata": {
        "id": "IJb3JYB8oEI1",
        "colab_type": "text"
      },
      "cell_type": "markdown",
      "source": [
        "** Big Data **\n",
        "\n",
        "Big data often refers to sets of data that are larger than a consumer software can handle.\n",
        "\n"
      ]
    },
    {
      "metadata": {
        "id": "fb7GGO8Holjr",
        "colab_type": "text"
      },
      "cell_type": "markdown",
      "source": [
        "** Security Issues **\n",
        "\n",
        "- Virus\n",
        "- Phishing\n",
        "- Password Strength\n",
        "- DDoS (Distributed Denial-of-Service) attack\n",
        "\n"
      ]
    },
    {
      "metadata": {
        "id": "s1EnN-QxpCIM",
        "colab_type": "text"
      },
      "cell_type": "markdown",
      "source": [
        "#### Cryptography \n",
        "\n",
        "A *Cipher*  is a pair of algorithms that encrypt and decrypt data.\n"
      ]
    },
    {
      "metadata": {
        "id": "ssCGwtNGpjsC",
        "colab_type": "code",
        "outputId": "5bd9cfc5-e247-4e87-b1e4-04e6ec15fb59",
        "colab": {
          "base_uri": "https://localhost:8080/",
          "height": 85
        }
      },
      "cell_type": "code",
      "source": [
        "'''\n",
        "  Caesar Cipher\n",
        "  \n",
        "  Key is a number n.\n",
        "  Encrypt by shift the character with n. \n",
        "  For example, if n==2, A --> C \n",
        "'''\n",
        "\n",
        "def caesar_enc(key,word):\n",
        "  shift = key % 26\n",
        "  encrypted = ''\n",
        "  for chi in word:\n",
        "    if chi == ' ':\n",
        "      cho = ' '\n",
        "    else:\n",
        "      asc = ord(chi)\n",
        "      if (asc > 64) and (asc < 91) : # A-Z\n",
        "        cho = chr(((asc-65)+shift)%26 + 65)\n",
        "\n",
        "      elif (asc >96) and (asc < 123): # a-z\n",
        "        cho = chr(((asc-97)+shift)%26 + 97)\n",
        "\n",
        "      else:\n",
        "        cho = chi\n",
        "\n",
        "    encrypted = encrypted + cho\n",
        "  \n",
        "  return encrypted\n",
        "\n",
        "def caesar_dec(key,word):\n",
        "  shift = key % 26\n",
        "  decrypted = ''\n",
        "  for chi in word:\n",
        "    if chi == ' ':\n",
        "      cho = ' '\n",
        "    else:\n",
        "      asc = ord(chi)\n",
        "      if (asc > 64) and (asc < 91) : # A-Z\n",
        "        cho = chr(((asc-65)-shift)%26 + 65)\n",
        "\n",
        "      elif (asc >96) and (asc < 123): # a-z\n",
        "        cho = chr(((asc-97)-shift)%26 + 97)\n",
        "\n",
        "      else:\n",
        "        cho = chi\n",
        "\n",
        "    decrypted = decrypted + cho\n",
        "  \n",
        "  return decrypted\n",
        "\n",
        "\n",
        "if __name__ == '__main__': \n",
        "  key = int(input('Caesar Cipher. Please enter key:(a number)'))\n",
        "  word = input('Caesar said: (a phrase)')\n",
        "\n",
        "  encrypted = caesar_enc(key,word)\n",
        "  print('The enemy knows {}'.format(encrypted))\n",
        "  \n",
        "  decrypted = caesar_dec(key,encrypted)\n",
        "  print('The General got {}'.format(decrypted))"
      ],
      "execution_count": 0,
      "outputs": [
        {
          "output_type": "stream",
          "text": [
            "Caesar Cipher. Please enter key:(a number)53\n",
            "Caesar said: (a phrase)Shit!!! Come back now~\n",
            "The enemy knows Tiju!!! Dpnf cbdl opx~\n",
            "The General got Shit!!! Come back now~\n"
          ],
          "name": "stdout"
        }
      ]
    },
    {
      "metadata": {
        "id": "vxqv194bsr1e",
        "colab_type": "text"
      },
      "cell_type": "markdown",
      "source": [
        "#### RSA Algorithm"
      ]
    },
    {
      "metadata": {
        "id": "q-GRwmv-vNT6",
        "colab_type": "text"
      },
      "cell_type": "markdown",
      "source": [
        "#### TLS / SSL\n",
        "\n",
        "TLS Transport Layer Security\n",
        "\n",
        "SSL Secure Socket Layer\n",
        "\n",
        "\n",
        "\n"
      ]
    },
    {
      "metadata": {
        "id": "MI3hrY1Ft-gL",
        "colab_type": "text"
      },
      "cell_type": "markdown",
      "source": [
        "#### AES Algorithm"
      ]
    },
    {
      "metadata": {
        "id": "TZWRHuKNs5uE",
        "colab_type": "text"
      },
      "cell_type": "markdown",
      "source": [
        "#### SHA Algorithm"
      ]
    },
    {
      "metadata": {
        "id": "n5wMbz6HuBHs",
        "colab_type": "text"
      },
      "cell_type": "markdown",
      "source": [
        "#### WPA3 Algorithm (Opportunistic Wireless Encryption)"
      ]
    },
    {
      "metadata": {
        "id": "_VDufWzgm7zF",
        "colab_type": "text"
      },
      "cell_type": "markdown",
      "source": [
        "### Unit 8 - Programming: Java Script"
      ]
    },
    {
      "metadata": {
        "id": "aeVy3XhQmg9I",
        "colab_type": "text"
      },
      "cell_type": "markdown",
      "source": [
        ""
      ]
    },
    {
      "metadata": {
        "id": "Qe2AfxgPYrc4",
        "colab_type": "text"
      },
      "cell_type": "markdown",
      "source": [
        "#### Python user to learn Java Script\n",
        "\n",
        "\n"
      ]
    },
    {
      "metadata": {
        "id": "RiN0pnAuakdf",
        "colab_type": "text"
      },
      "cell_type": "markdown",
      "source": [
        "\n",
        "Python ==> Java Script\n",
        "\n",
        "str ==> String\n",
        "\n",
        "int, float ==> Number\n",
        "\n",
        "list ==> Array\n",
        "\n",
        "dict  ==> Object\n",
        "\n",
        "object ==> pyproxy\n",
        "\n",
        "bytes ==> Uint8ClampedArray\n"
      ]
    },
    {
      "metadata": {
        "id": "pyjgbznox4XO",
        "colab_type": "text"
      },
      "cell_type": "markdown",
      "source": [
        "Many learning materials here: [Learn Web Technology](https://developer.mozilla.org/en-US/docs/Web)\n",
        "\n",
        "Playground for Java Script + CSS + Python + Markdown [iodide](https://alpha.iodide.io/)"
      ]
    },
    {
      "metadata": {
        "id": "WpTYUVBTyapv",
        "colab_type": "text"
      },
      "cell_type": "markdown",
      "source": [
        "```javascript\n",
        "/*\n",
        "Variable\n",
        "*/\n",
        "const PI = 3.141592654; // This is a Constant\n",
        "var userName = 'Daniel'; // This is a String\n",
        "var x,y,z; // You don't need to assign value or even type before use it\n",
        "x = 1;\n",
        "y = 2;\n",
        "z = x + y;\n",
        "\n",
        "var x = { Name:\"Daniel\", age: 18};    // Object data type, Json format of dictionary\n",
        "var cars = [\"Volvo\", \"VW\", \"Toyota\"]; // Array\n",
        "\n",
        "```"
      ]
    },
    {
      "metadata": {
        "id": "e5BigPQ7znSh",
        "colab_type": "text"
      },
      "cell_type": "markdown",
      "source": [
        "Operations:\n",
        "\n",
        "| Operator | Description |\n",
        "| -------------- | -------------------|\n",
        "| +              | Addition |\n",
        "| -              | Subtraction |\n",
        "| *              | Multiplication |\n",
        "| /              | Divide |\n",
        "| %             | Modulus |\n",
        "| **             | Exponential |\n",
        "| ++            | Increment |\n",
        "| --             | Decrement |"
      ]
    },
    {
      "metadata": {
        "id": "4U2sUBrT6S6P",
        "colab_type": "text"
      },
      "cell_type": "markdown",
      "source": [
        "Function:\n",
        "\n",
        "```javascript\n",
        "function myMultiply(a, b) {\n",
        "  return a*b\n",
        "}\n",
        "```\n",
        "\n",
        "Object:\n",
        "\n",
        "```javascript\n",
        "var Obj = function(name) {\n",
        "  this.name = name\n",
        "}\n",
        "\n",
        "var hero1 = new Obj(\"Ben\"); \n",
        "var hero2 = new Obj(\"Jefferson\")\n",
        "```\n",
        "\n",
        "Class:\n",
        "\n",
        "```javascript\n",
        "class myObject  {\n",
        "  constructor(name) {\n",
        "    this.name = name;\n",
        "  }\n",
        "}\n",
        "var hero3 = new myObject(\"John\");\n",
        "```\n"
      ]
    },
    {
      "metadata": {
        "id": "fkQXv97cbQ2C",
        "colab_type": "text"
      },
      "cell_type": "markdown",
      "source": [
        "#### What is \"this\"?\n",
        "\n",
        "In a method, this refers to the owner object. Otherwise, it refers to the global object.\n"
      ]
    },
    {
      "metadata": {
        "id": "5UEv4ttyHfCe",
        "colab_type": "text"
      },
      "cell_type": "markdown",
      "source": [
        "```javascript\n",
        "var student = {\n",
        "  firstName: \"John\",\n",
        "  lastName : \"Adams\",\n",
        "  id     : 1234,\n",
        "  fullName : function() {\n",
        "    return this.firstName + \" \" + this.lastName;  // this refers to student object \n",
        "  }\n",
        "  \n",
        "console.log(student.fullName); // print out the full name of student\n",
        "```"
      ]
    },
    {
      "metadata": {
        "id": "hTTzdIXB0nMl",
        "colab_type": "text"
      },
      "cell_type": "markdown",
      "source": [
        "```xml\n",
        "<element event='some JavaScript'>\n",
        "\n",
        "<button onclick=\"document.getElementById('demo').innerHTML = Date()\">The time is?</button>\n",
        "\n",
        "```"
      ]
    },
    {
      "metadata": {
        "id": "3USzpiHEasmv",
        "colab_type": "text"
      },
      "cell_type": "markdown",
      "source": [
        "#### Loop"
      ]
    },
    {
      "metadata": {
        "id": "9a_dz8rVxJ7S",
        "colab_type": "text"
      },
      "cell_type": "markdown",
      "source": [
        "For Loop:\n",
        "\n",
        "```javascript\n",
        "var names = [\"Apple\", \"Banna\", \"Orange\", \"Melon\"];\n",
        "var text = \"\";\n",
        "for (var i = 0; i < names.length; i++) {\n",
        "  text += cars[i] + \"<br>\";\n",
        "}\n",
        "```\n",
        "\n",
        "While Loop:\n",
        "\n",
        "```javascript\n",
        "var factorial = 1;\n",
        "var i = 1;\n",
        "while (i < 10) {\n",
        "  factorial = factorial * i;\n",
        "  i++;\n",
        "}\n",
        "```\n"
      ]
    },
    {
      "metadata": {
        "id": "erNPJEhExSfT",
        "colab_type": "text"
      },
      "cell_type": "markdown",
      "source": [
        "#### Use try-catch\n",
        "\n",
        "```javascript\n",
        "try {\n",
        "  // Do something\n",
        "} \n",
        "catch(err) {\n",
        "  // Error handling\n",
        "}\n",
        "```"
      ]
    },
    {
      "metadata": {
        "id": "fbGwIl-fxdmg",
        "colab_type": "text"
      },
      "cell_type": "markdown",
      "source": [
        "### Important Concepts for Programmers\n",
        "\n",
        "#### Design Pattern\n",
        "\n",
        "#### Framework"
      ]
    },
    {
      "metadata": {
        "id": "C1W2HrmCnCXt",
        "colab_type": "text"
      },
      "cell_type": "markdown",
      "source": [
        "### Appendix 1 - Explore"
      ]
    },
    {
      "metadata": {
        "id": "ArpBlVvcnXnP",
        "colab_type": "text"
      },
      "cell_type": "markdown",
      "source": [
        "### Appendix 2 - Create"
      ]
    },
    {
      "metadata": {
        "id": "y-ZYI7zDnbin",
        "colab_type": "text"
      },
      "cell_type": "markdown",
      "source": [
        "### Appendix 3 - Java Script Objects"
      ]
    }
  ]
}